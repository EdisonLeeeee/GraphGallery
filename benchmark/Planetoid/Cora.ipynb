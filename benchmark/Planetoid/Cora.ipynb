{
 "cells": [
  {
   "cell_type": "code",
   "execution_count": null,
   "metadata": {
    "tags": []
   },
   "outputs": [],
   "source": [
    "import numpy as np\n",
    "from tqdm import tqdm"
   ]
  },
  {
   "cell_type": "markdown",
   "metadata": {},
   "source": [
    "# Load Cora Dataset"
   ]
  },
  {
   "cell_type": "code",
   "execution_count": 2,
   "metadata": {
    "tags": []
   },
   "outputs": [],
   "source": [
    "from graphgallery.datasets import Planetoid\n",
    "data = Planetoid('cora', root=\"~/GraphData/datasets/\", verbose=False)\n",
    "graph = data.graph\n",
    "splits = data.split_nodes()"
   ]
  },
  {
   "cell_type": "markdown",
   "metadata": {},
   "source": [
    "# TensorFlow Backend"
   ]
  },
  {
   "cell_type": "code",
   "execution_count": 3,
   "metadata": {},
   "outputs": [
    {
     "data": {
      "text/plain": [
       "TensorFlow 2.1.2 Backend"
      ]
     },
     "execution_count": 3,
     "metadata": {},
     "output_type": "execute_result"
    }
   ],
   "source": [
    "from graphgallery import set_backend\n",
    "set_backend('tensorflow')"
   ]
  },
  {
   "cell_type": "code",
   "execution_count": 4,
   "metadata": {},
   "outputs": [
    {
     "name": "stderr",
     "output_type": "stream",
     "text": [
      "100%|██████████| 10/10 [00:12<00:00,  1.30s/it]"
     ]
    },
    {
     "name": "stdout",
     "output_type": "stream",
     "text": [
      "Final results: 79.42%±2.36%\n"
     ]
    },
    {
     "name": "stderr",
     "output_type": "stream",
     "text": [
      "\n"
     ]
    }
   ],
   "source": [
    "from graphgallery.gallery.nodeclas import GCN\n",
    "\n",
    "accs = []\n",
    "\n",
    "for seed in tqdm(range(10)):\n",
    "    trainer = GCN(device=\"gpu\", seed=42+seed).make_data(graph, attr_transform=\"normalize_attr\").build()\n",
    "    his = trainer.fit(splits.train_nodes, splits.val_nodes, verbose=0, epochs=100)\n",
    "    results = trainer.evaluate(splits.test_nodes, verbose=0) \n",
    "    accs.append(results.accuracy)\n",
    "    \n",
    "print(f\"Final results: {np.mean(accs):.2%}±{np.std(accs):.2%}\")"
   ]
  },
  {
   "cell_type": "code",
   "execution_count": 5,
   "metadata": {},
   "outputs": [
    {
     "name": "stderr",
     "output_type": "stream",
     "text": [
      "100%|██████████| 10/10 [00:05<00:00,  1.69it/s]"
     ]
    },
    {
     "name": "stdout",
     "output_type": "stream",
     "text": [
      "Final results: 81.33%±0.61%\n"
     ]
    },
    {
     "name": "stderr",
     "output_type": "stream",
     "text": [
      "\n"
     ]
    }
   ],
   "source": [
    "from graphgallery.gallery.nodeclas import SGC\n",
    "\n",
    "accs = []\n",
    "\n",
    "for seed in tqdm(range(10)):\n",
    "    trainer = SGC(device=\"gpu\", seed=42+seed).make_data(graph, attr_transform=\"normalize_attr\").build()\n",
    "    his = trainer.fit(splits.train_nodes, splits.val_nodes, verbose=0, epochs=100)\n",
    "    results = trainer.evaluate(splits.test_nodes, verbose=0) \n",
    "    accs.append(results.accuracy)\n",
    "    \n",
    "print(f\"Final results: {np.mean(accs):.2%}±{np.std(accs):.2%}\")"
   ]
  },
  {
   "cell_type": "code",
   "execution_count": 6,
   "metadata": {},
   "outputs": [
    {
     "name": "stderr",
     "output_type": "stream",
     "text": [
      "  0%|          | 0/10 [00:00<?, ?it/s]"
     ]
    },
    {
     "name": "stdout",
     "output_type": "stream",
     "text": [
      "WARNING:tensorflow:Large dropout rate: 0.6 (>0.5). In TensorFlow 2.x, dropout() uses dropout rate instead of keep_prob. Please ensure that this is intended.\n",
      "WARNING:tensorflow:Large dropout rate: 0.6 (>0.5). In TensorFlow 2.x, dropout() uses dropout rate instead of keep_prob. Please ensure that this is intended.\n",
      "WARNING:tensorflow:Large dropout rate: 0.6 (>0.5). In TensorFlow 2.x, dropout() uses dropout rate instead of keep_prob. Please ensure that this is intended.\n"
     ]
    },
    {
     "name": "stderr",
     "output_type": "stream",
     "text": [
      " 10%|█         | 1/10 [00:21<03:09, 21.07s/it]"
     ]
    },
    {
     "name": "stdout",
     "output_type": "stream",
     "text": [
      "WARNING:tensorflow:Large dropout rate: 0.6 (>0.5). In TensorFlow 2.x, dropout() uses dropout rate instead of keep_prob. Please ensure that this is intended.\n",
      "WARNING:tensorflow:Large dropout rate: 0.6 (>0.5). In TensorFlow 2.x, dropout() uses dropout rate instead of keep_prob. Please ensure that this is intended.\n"
     ]
    },
    {
     "name": "stderr",
     "output_type": "stream",
     "text": [
      "100%|██████████| 10/10 [04:18<00:00, 25.90s/it]"
     ]
    },
    {
     "name": "stdout",
     "output_type": "stream",
     "text": [
      "Final results: 81.96%±1.02%\n"
     ]
    },
    {
     "name": "stderr",
     "output_type": "stream",
     "text": [
      "\n"
     ]
    }
   ],
   "source": [
    "from graphgallery.gallery.nodeclas import GAT\n",
    "\n",
    "accs = []\n",
    "\n",
    "for seed in tqdm(range(10)):\n",
    "    trainer = GAT(device=\"gpu\", seed=42+seed).make_data(graph, attr_transform=\"normalize_attr\").build()\n",
    "    his = trainer.fit(splits.train_nodes, splits.val_nodes, verbose=0, epochs=200)\n",
    "    results = trainer.evaluate(splits.test_nodes, verbose=0) \n",
    "    accs.append(results.accuracy)\n",
    "    \n",
    "print(f\"Final results: {np.mean(accs):.2%}±{np.std(accs):.2%}\")"
   ]
  },
  {
   "cell_type": "markdown",
   "metadata": {},
   "source": [
    "# PyTorch Backend"
   ]
  },
  {
   "cell_type": "code",
   "execution_count": 7,
   "metadata": {},
   "outputs": [
    {
     "data": {
      "text/plain": [
       "PyTorch 1.6.0+cu101 Backend"
      ]
     },
     "execution_count": 7,
     "metadata": {},
     "output_type": "execute_result"
    }
   ],
   "source": [
    "from graphgallery import set_backend\n",
    "set_backend('pytorch')"
   ]
  },
  {
   "cell_type": "code",
   "execution_count": 8,
   "metadata": {},
   "outputs": [
    {
     "name": "stderr",
     "output_type": "stream",
     "text": [
      "100%|██████████| 10/10 [01:45<00:00, 10.51s/it]"
     ]
    },
    {
     "name": "stdout",
     "output_type": "stream",
     "text": [
      "Final results: 81.25%±0.88%\n"
     ]
    },
    {
     "name": "stderr",
     "output_type": "stream",
     "text": [
      "\n"
     ]
    }
   ],
   "source": [
    "from graphgallery.gallery.nodeclas import GCN\n",
    "\n",
    "accs = []\n",
    "\n",
    "for seed in tqdm(range(10)):\n",
    "    trainer = GCN(device=\"gpu\", seed=42+seed).make_data(graph, attr_transform=\"normalize_attr\").build()\n",
    "    his = trainer.fit(splits.train_nodes, splits.val_nodes, verbose=0, epochs=200)\n",
    "    results = trainer.evaluate(splits.test_nodes, verbose=0) \n",
    "    accs.append(results.accuracy)\n",
    "    \n",
    "print(f\"Final results: {np.mean(accs):.2%}±{np.std(accs):.2%}\")"
   ]
  },
  {
   "cell_type": "code",
   "execution_count": 9,
   "metadata": {},
   "outputs": [
    {
     "name": "stderr",
     "output_type": "stream",
     "text": [
      "100%|██████████| 10/10 [00:06<00:00,  1.49it/s]"
     ]
    },
    {
     "name": "stdout",
     "output_type": "stream",
     "text": [
      "Final results: 80.53%±0.48%\n"
     ]
    },
    {
     "name": "stderr",
     "output_type": "stream",
     "text": [
      "\n"
     ]
    }
   ],
   "source": [
    "from graphgallery.gallery.nodeclas import SGC\n",
    "\n",
    "accs = []\n",
    "\n",
    "for seed in tqdm(range(10)):\n",
    "    trainer = SGC(evice=\"gpu\", seed=42+seed).make_data(graph, attr_transform=\"normalize_attr\").build()\n",
    "    his = trainer.fit(splits.train_nodes, splits.val_nodes, verbose=0, epochs=100)\n",
    "    results = trainer.evaluate(splits.test_nodes, verbose=0) \n",
    "    accs.append(results.accuracy)\n",
    "    \n",
    "print(f\"Final results: {np.mean(accs):.2%}±{np.std(accs):.2%}\")"
   ]
  },
  {
   "cell_type": "code",
   "execution_count": 10,
   "metadata": {},
   "outputs": [
    {
     "name": "stderr",
     "output_type": "stream",
     "text": [
      "100%|██████████| 10/10 [09:20<00:00, 56.04s/it]"
     ]
    },
    {
     "name": "stdout",
     "output_type": "stream",
     "text": [
      "Final results: 82.74%±0.58%\n"
     ]
    },
    {
     "name": "stderr",
     "output_type": "stream",
     "text": [
      "\n"
     ]
    }
   ],
   "source": [
    "from graphgallery.gallery.nodeclas import GAT\n",
    "\n",
    "accs = []\n",
    "\n",
    "for seed in tqdm(range(10)):\n",
    "    trainer = GAT(device=\"gpu\", seed=42+seed).make_data(graph, attr_transform=\"normalize_attr\").build()\n",
    "    his = trainer.fit(splits.train_nodes, splits.val_nodes, verbose=0, epochs=200)\n",
    "    results = trainer.evaluate(splits.test_nodes, verbose=0) \n",
    "    accs.append(results.accuracy)\n",
    "    \n",
    "print(f\"Final results: {np.mean(accs):.2%}±{np.std(accs):.2%}\")"
   ]
  },
  {
   "cell_type": "markdown",
   "metadata": {},
   "source": [
    "# PyG Backend"
   ]
  },
  {
   "cell_type": "code",
   "execution_count": 11,
   "metadata": {},
   "outputs": [
    {
     "data": {
      "text/plain": [
       "PyTorch Geometric 1.6.1 (PyTorch 1.6.0+cu101) Backend"
      ]
     },
     "execution_count": 11,
     "metadata": {},
     "output_type": "execute_result"
    }
   ],
   "source": [
    "from graphgallery import set_backend\n",
    "set_backend('pyg')"
   ]
  },
  {
   "cell_type": "code",
   "execution_count": 12,
   "metadata": {},
   "outputs": [],
   "source": [
    "import graphgallery as gg"
   ]
  },
  {
   "cell_type": "code",
   "execution_count": 13,
   "metadata": {},
   "outputs": [
    {
     "name": "stderr",
     "output_type": "stream",
     "text": [
      "Using backend: pytorch\n"
     ]
    },
    {
     "data": {
      "text/plain": [
       "DGL PyTorch 0.5.2 (PyTorch 1.6.0+cu101) Backend"
      ]
     },
     "execution_count": 13,
     "metadata": {},
     "output_type": "execute_result"
    }
   ],
   "source": [
    "gg.backend(\"DGL\")"
   ]
  },
  {
   "cell_type": "code",
   "execution_count": 14,
   "metadata": {},
   "outputs": [
    {
     "name": "stderr",
     "output_type": "stream",
     "text": [
      "100%|██████████| 10/10 [00:20<00:00,  2.06s/it]"
     ]
    },
    {
     "name": "stdout",
     "output_type": "stream",
     "text": [
      "Final results: 81.22%±0.75%\n"
     ]
    },
    {
     "name": "stderr",
     "output_type": "stream",
     "text": [
      "\n"
     ]
    }
   ],
   "source": [
    "from graphgallery.gallery.nodeclas import GCN\n",
    "\n",
    "accs = []\n",
    "\n",
    "for seed in tqdm(range(10)):\n",
    "    trainer = GCN(device=\"gpu\", seed=42+seed).make_data(graph, attr_transform=\"normalize_attr\").build()\n",
    "    his = trainer.fit(splits.train_nodes, splits.val_nodes, verbose=0, epochs=200)\n",
    "    results = trainer.evaluate(splits.test_nodes, verbose=0) \n",
    "    accs.append(results.accuracy)\n",
    "    \n",
    "print(f\"Final results: {np.mean(accs):.2%}±{np.std(accs):.2%}\")"
   ]
  },
  {
   "cell_type": "code",
   "execution_count": 15,
   "metadata": {},
   "outputs": [
    {
     "name": "stderr",
     "output_type": "stream",
     "text": [
      "100%|██████████| 10/10 [00:09<00:00,  1.00it/s]"
     ]
    },
    {
     "name": "stdout",
     "output_type": "stream",
     "text": [
      "Final results: 80.77%±0.58%\n"
     ]
    },
    {
     "name": "stderr",
     "output_type": "stream",
     "text": [
      "\n"
     ]
    }
   ],
   "source": [
    "from graphgallery.gallery.nodeclas import SGC\n",
    "\n",
    "accs = []\n",
    "\n",
    "for seed in tqdm(range(10)):\n",
    "    trainer = SGC(device=\"gpu\", seed=42+seed).make_data(graph, attr_transform=\"normalize_attr\").build()\n",
    "    his = trainer.fit(splits.train_nodes, splits.val_nodes, verbose=0, epochs=200)\n",
    "    results = trainer.evaluate(splits.test_nodes, verbose=0) \n",
    "    accs.append(results.accuracy)\n",
    "    \n",
    "print(f\"Final results: {np.mean(accs):.2%}±{np.std(accs):.2%}\")"
   ]
  },
  {
   "cell_type": "code",
   "execution_count": 16,
   "metadata": {},
   "outputs": [
    {
     "name": "stderr",
     "output_type": "stream",
     "text": [
      "100%|██████████| 10/10 [01:28<00:00,  8.87s/it]"
     ]
    },
    {
     "name": "stdout",
     "output_type": "stream",
     "text": [
      "Final results: 82.72%±1.08%\n"
     ]
    },
    {
     "name": "stderr",
     "output_type": "stream",
     "text": [
      "\n"
     ]
    }
   ],
   "source": [
    "from graphgallery.gallery.nodeclas import GAT\n",
    "\n",
    "accs = []\n",
    "\n",
    "for seed in tqdm(range(10)):\n",
    "    trainer = GAT(device=\"gpu\", seed=42+seed).make_data(graph, attr_transform=\"normalize_attr\").build()\n",
    "    his = trainer.fit(splits.train_nodes, splits.val_nodes, verbose=0, epochs=200)\n",
    "    results = trainer.evaluate(splits.test_nodes, verbose=0) \n",
    "    accs.append(results.accuracy)\n",
    "    \n",
    "print(f\"Final results: {np.mean(accs):.2%}±{np.std(accs):.2%}\")"
   ]
  },
  {
   "cell_type": "markdown",
   "metadata": {},
   "source": [
    "# DGL (PyTorch) Backend"
   ]
  },
  {
   "cell_type": "code",
   "execution_count": 17,
   "metadata": {},
   "outputs": [
    {
     "data": {
      "text/plain": [
       "DGL PyTorch 0.5.2 (PyTorch 1.6.0+cu101) Backend"
      ]
     },
     "execution_count": 17,
     "metadata": {},
     "output_type": "execute_result"
    }
   ],
   "source": [
    "from graphgallery import set_backend\n",
    "set_backend('dgl')"
   ]
  },
  {
   "cell_type": "code",
   "execution_count": 18,
   "metadata": {},
   "outputs": [
    {
     "name": "stderr",
     "output_type": "stream",
     "text": [
      "100%|██████████| 10/10 [02:06<00:00, 12.62s/it]"
     ]
    },
    {
     "name": "stdout",
     "output_type": "stream",
     "text": [
      "Final results: 81.39%±0.44%\n"
     ]
    },
    {
     "name": "stderr",
     "output_type": "stream",
     "text": [
      "\n"
     ]
    }
   ],
   "source": [
    "from graphgallery.gallery.nodeclas import GCN\n",
    "\n",
    "accs = []\n",
    "\n",
    "for seed in tqdm(range(10)):\n",
    "    trainer = GCN(device=\"gpu\", seed=42+seed).make_data(graph, attr_transform=\"normalize_attr\").build()\n",
    "    his = trainer.fit(splits.train_nodes, splits.val_nodes, verbose=0, epochs=200)\n",
    "    results = trainer.evaluate(splits.test_nodes, verbose=0) \n",
    "    accs.append(results.accuracy)\n",
    "    \n",
    "print(f\"Final results: {np.mean(accs):.2%}±{np.std(accs):.2%}\")"
   ]
  },
  {
   "cell_type": "code",
   "execution_count": 19,
   "metadata": {},
   "outputs": [
    {
     "name": "stderr",
     "output_type": "stream",
     "text": [
      "100%|██████████| 10/10 [00:07<00:00,  1.36it/s]"
     ]
    },
    {
     "name": "stdout",
     "output_type": "stream",
     "text": [
      "Final results: 80.70%±0.54%\n"
     ]
    },
    {
     "name": "stderr",
     "output_type": "stream",
     "text": [
      "\n"
     ]
    }
   ],
   "source": [
    "from graphgallery.gallery.nodeclas import SGC\n",
    "\n",
    "accs = []\n",
    "\n",
    "for seed in tqdm(range(10)):\n",
    "    trainer = SGC(device=\"gpu\", seed=42+seed).make_data(graph, attr_transform=\"normalize_attr\").build()\n",
    "    his = trainer.fit(splits.train_nodes, splits.val_nodes, verbose=0, epochs=100)\n",
    "    results = trainer.evaluate(splits.test_nodes, verbose=0) \n",
    "    accs.append(results.accuracy)\n",
    "    \n",
    "print(f\"Final results: {np.mean(accs):.2%}±{np.std(accs):.2%}\")"
   ]
  },
  {
   "cell_type": "code",
   "execution_count": 20,
   "metadata": {},
   "outputs": [
    {
     "name": "stderr",
     "output_type": "stream",
     "text": [
      "100%|██████████| 10/10 [01:33<00:00,  9.36s/it]"
     ]
    },
    {
     "name": "stdout",
     "output_type": "stream",
     "text": [
      "Final results: 82.18%±0.47%\n"
     ]
    },
    {
     "name": "stderr",
     "output_type": "stream",
     "text": [
      "\n"
     ]
    }
   ],
   "source": [
    "from graphgallery.gallery.nodeclas import GAT\n",
    "\n",
    "accs = []\n",
    "\n",
    "for seed in tqdm(range(10)):\n",
    "    trainer = GAT(device=\"gpu\", seed=42+seed).make_data(graph, attr_transform=\"normalize_attr\").build()\n",
    "    his = trainer.fit(splits.train_nodes, splits.val_nodes, verbose=0, epochs=200)\n",
    "    results = trainer.evaluate(splits.test_nodes, verbose=0) \n",
    "    accs.append(results.accuracy)\n",
    "    \n",
    "print(f\"Final results: {np.mean(accs):.2%}±{np.std(accs):.2%}\")"
   ]
  }
 ],
 "metadata": {
  "kernelspec": {
   "display_name": "Python 3",
   "language": "python",
   "name": "python3"
  },
  "language_info": {
   "codemirror_mode": {
    "name": "ipython",
    "version": 3
   },
   "file_extension": ".py",
   "mimetype": "text/x-python",
   "name": "python",
   "nbconvert_exporter": "python",
   "pygments_lexer": "ipython3",
   "version": "3.7.3"
  }
 },
 "nbformat": 4,
 "nbformat_minor": 4
}